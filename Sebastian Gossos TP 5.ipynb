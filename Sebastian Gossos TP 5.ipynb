{
 "cells": [
  {
   "cell_type": "code",
   "execution_count": 2,
   "id": "8e7898f7",
   "metadata": {},
   "outputs": [
    {
     "name": "stdout",
     "output_type": "stream",
     "text": [
      "Hola Mundo!\n"
     ]
    }
   ],
   "source": [
    "# 1. Crear una función llamada imprimir_hola_mundo que imprima por\n",
    "# pantalla el mensaje: “Hola Mundo!”. Llamar a esta función desde el\n",
    "# programa principal.\n",
    "def hola_mundo():\n",
    "  return print(\"Hola Mundo!\")\n",
    "\n",
    "hola_mundo()"
   ]
  },
  {
   "cell_type": "code",
   "execution_count": 3,
   "id": "df556cb8",
   "metadata": {},
   "outputs": [
    {
     "name": "stdout",
     "output_type": "stream",
     "text": [
      "Hola Sebastián\n"
     ]
    }
   ],
   "source": [
    "# 2. Crear una función llamada saludar_usuario(nombre) que reciba\n",
    "# como parámetro un nombre y devuelva un saludo personalizado.\n",
    "# Por ejemplo, si se llama con saludar_usuario(\"Marcos\"), deberá devolver: “Hola Marcos!”. Llamar a esta función desde el programa\n",
    "# principal solicitando el nombre al usuario.\n",
    "def saludar_usuario(nombre):\n",
    "  return f\"Hola {nombre}\"\n",
    "print(saludar_usuario(\"Sebastián\"))"
   ]
  },
  {
   "cell_type": "code",
   "execution_count": 4,
   "id": "53128a1e",
   "metadata": {},
   "outputs": [
    {
     "name": "stdout",
     "output_type": "stream",
     "text": [
      "Soy seba gossos, tengo 33 y vivo en siuu\n"
     ]
    }
   ],
   "source": [
    "# 3. Crear una función llamada informacion_personal(nombre, apellido,\n",
    "# edad, residencia) que reciba cuatro parámetros e imprima: “Soy\n",
    "# [nombre] [apellido], tengo [edad] años y vivo en [residencia]”. Pedir los datos al usuario y llamar a esta función con los valores ingresados.\n",
    "def informacion_personal(nombre, apellido, edad, residencia):\n",
    "  print(f\"Soy {nombre} {apellido}, tengo {edad} y vivo en {residencia}\")\n",
    "  \n",
    "nombre = input('Por favor coloque su nombre')\n",
    "apellido = input('Por favor coloque su apellido')\n",
    "edad = input('Por favor coloque su edad')\n",
    "residencia = input('Por favor coloque su residencia')\n",
    "\n",
    "informacion_personal(nombre, apellido, edad, residencia)"
   ]
  },
  {
   "cell_type": "code",
   "execution_count": 11,
   "id": "68bfcef4",
   "metadata": {},
   "outputs": [
    {
     "name": "stdout",
     "output_type": "stream",
     "text": [
      "173.898463109748\n",
      "46.74689868541613\n"
     ]
    }
   ],
   "source": [
    "# 4. Crear dos funciones: calcular_area_circulo(radio) que reciba el radio como parámetro y devuelva el área del círculo. calcular_perimetro_circulo(radio) que reciba el radio como parámetro y devuelva el perímetro del círculo. Solicitar el radio al usuario y llamar ambas funciones para mostrar los resultados.\n",
    "import math\n",
    "def calcular_area_circulo(radio):\n",
    "  return math.pi * (radio ** 2)\n",
    "\n",
    "def calcular_perimetro_circulo(radio):\n",
    "  return 2 * math.pi * radio\n",
    "\n",
    "radio_value = float(input('Ingresar Radio'))\n",
    "\n",
    "print( calcular_area_circulo(radio_value))\n",
    "print( calcular_perimetro_circulo(radio_value) )"
   ]
  },
  {
   "cell_type": "code",
   "execution_count": null,
   "id": "acb6d1b6",
   "metadata": {},
   "outputs": [
    {
     "name": "stdout",
     "output_type": "stream",
     "text": [
      "6.0 segundos equivalen a 0.0016666666666666668 horas.\n"
     ]
    }
   ],
   "source": [
    "# 5. Crear una función llamada segundos_a_horas(segundos) que reciba\n",
    "# una cantidad de segundos como parámetro y devuelva la cantidad\n",
    "# de horas correspondientes. Solicitar al usuario los segundos y mostrar el resultado usando esta función.\n",
    "def segundos_a_horas(segundos):\n",
    "  return segundos / 3600\n",
    "\n",
    "segundos = float(input(\"Ingresá la cantidad de segundos: \"))\n",
    "\n",
    "resultado = segundos_a_horas(segundos)\n",
    "print(f\"{segundos} segundos equivalen a {resultado} horas.\")"
   ]
  },
  {
   "cell_type": "code",
   "execution_count": 1,
   "id": "0921a509",
   "metadata": {},
   "outputs": [
    {
     "name": "stdout",
     "output_type": "stream",
     "text": [
      "6 x 1 = 6\n",
      "6 x 2 = 12\n",
      "6 x 3 = 18\n",
      "6 x 4 = 24\n",
      "6 x 5 = 30\n",
      "6 x 6 = 36\n",
      "6 x 7 = 42\n",
      "6 x 8 = 48\n",
      "6 x 9 = 54\n",
      "6 x 10 = 60\n"
     ]
    }
   ],
   "source": [
    "# 6. Crear una función llamada tabla_multiplicar(numero) que reciba un\n",
    "# número como parámetro y imprima la tabla de multiplicar de ese\n",
    "# número del 1 al 10. Pedir al usuario el número y llamar a la función.\n",
    "def tabla_multiplicar(numero):\n",
    "    for i in range(1, 11):\n",
    "        print(f\"{numero} x {i} = {numero * i}\")\n",
    "\n",
    "num = int(input(\"Ingrese un número para ver su tabla de multiplicar: \"))\n",
    "tabla_multiplicar(num)\n",
    "\n"
   ]
  },
  {
   "cell_type": "code",
   "execution_count": 2,
   "id": "26863463",
   "metadata": {},
   "outputs": [
    {
     "name": "stdout",
     "output_type": "stream",
     "text": [
      "Suma: 6.0\n",
      "Resta: -2.0\n",
      "Multiplicación: 8.0\n",
      "División: 0.5\n"
     ]
    }
   ],
   "source": [
    "# 7. Crear una función llamada operaciones_basicas(a, b) que reciba\n",
    "# dos números como parámetros y devuelva una tupla con el resultado de sumarlos, restarlos, multiplicarlos y dividirlos. Mostrar los resultados de forma clara.\n",
    "\n",
    "def operaciones_basicas(a, b):\n",
    "    suma = a + b\n",
    "    resta = a - b\n",
    "    multiplicacion = a * b\n",
    "    division = a / b\n",
    "    return (suma, resta, multiplicacion, division)\n",
    "\n",
    "a = float(input(\"Ingrese el primer número: \"))\n",
    "b = float(input(\"Ingrese el segundo número: \"))\n",
    "\n",
    "resultado = operaciones_basicas(a, b)\n",
    "\n",
    "print(f\"Suma: {resultado[0]}\")\n",
    "print(f\"Resta: {resultado[1]}\")\n",
    "print(f\"Multiplicación: {resultado[2]}\")\n",
    "print(f\"División: {resultado[3]}\")\n"
   ]
  },
  {
   "cell_type": "code",
   "execution_count": 3,
   "id": "50b873ef",
   "metadata": {},
   "outputs": [
    {
     "name": "stdout",
     "output_type": "stream",
     "text": [
      "Su índice de masa corporal (IMC) es: 22.448015122873343\n"
     ]
    }
   ],
   "source": [
    "# 8. Crear una función llamada calcular_imc(peso, altura) que reciba el\n",
    "# peso en kilogramos y la altura en metros, y devuelva el índice de\n",
    "# masa corporal (IMC). Solicitar al usuario los datos y llamar a la función para mostrar el resultado con dos decimales.\n",
    "\n",
    "def calcular_imc(peso, altura):\n",
    "    imc = peso / (altura ** 2)\n",
    "    return imc\n",
    "\n",
    "peso = float(input(\"Ingrese su peso en kilogramos: \"))\n",
    "altura = float(input(\"Ingrese su altura en metros: \"))\n",
    "\n",
    "resultado = calcular_imc(peso, altura)\n",
    "print(f\"Su índice de masa corporal (IMC) es: {resultado}\")\n"
   ]
  },
  {
   "cell_type": "code",
   "execution_count": 4,
   "id": "b7730a23",
   "metadata": {},
   "outputs": [
    {
     "name": "stdout",
     "output_type": "stream",
     "text": [
      "33.0°C equivalen a 91.4°F\n"
     ]
    }
   ],
   "source": [
    "# 9. Crear una función llamada celsius_a_fahrenheit(celsius) que reciba\n",
    "# una temperatura en grados Celsius y devuelva su equivalente en\n",
    "# Fahrenheit. Pedir al usuario la temperatura en Celsius y mostrar el\n",
    "# resultado usando la función.\n",
    "\n",
    "def celsius_a_fahrenheit(celsius):\n",
    "    fahrenheit = (celsius * 9/5) + 32\n",
    "    return fahrenheit\n",
    "\n",
    "c = float(input(\"Ingrese la temperatura en grados Celsius: \"))\n",
    "\n",
    "f = celsius_a_fahrenheit(c)\n",
    "print(f\"{c}°C equivalen a {f}°F\")\n"
   ]
  },
  {
   "cell_type": "code",
   "execution_count": 5,
   "id": "abcc54ee",
   "metadata": {},
   "outputs": [
    {
     "name": "stdout",
     "output_type": "stream",
     "text": [
      "El promedio es: 7.333333333333333\n"
     ]
    }
   ],
   "source": [
    "# 10.Crear una función llamada calcular_promedio(a, b, c) que reciba\n",
    "# tres números como parámetros y devuelva el promedio de ellos.\n",
    "# Solicitar los números al usuario y mostrar el resultado usando esta\n",
    "# función.\n",
    "\n",
    "def calcular_promedio(a, b, c):\n",
    "    promedio = (a + b + c) / 3\n",
    "    return promedio\n",
    "\n",
    "a = float(input(\"Ingrese el primer número: \"))\n",
    "b = float(input(\"Ingrese el segundo número: \"))\n",
    "c = float(input(\"Ingrese el tercer número: \"))\n",
    "\n",
    "resultado = calcular_promedio(a, b, c)\n",
    "print(f\"El promedio es: {resultado}\")\n"
   ]
  },
  {
   "cell_type": "code",
   "execution_count": 3,
   "id": "338fc185",
   "metadata": {},
   "outputs": [
    {
     "name": "stdout",
     "output_type": "stream",
     "text": [
      "3\n",
      "2\n",
      "1\n",
      "¡Despegue!\n"
     ]
    }
   ],
   "source": [
    "def cuenta_regresiva(numero):\n",
    "    if numero > 0:\n",
    "        print(numero)\n",
    "        cuenta_regresiva(numero - 1)\n",
    "    else:\n",
    "        print(\"¡Despegue!\")\n",
    "\n",
    "cuenta_regresiva(3)"
   ]
  }
 ],
 "metadata": {
  "kernelspec": {
   "display_name": "Python 3",
   "language": "python",
   "name": "python3"
  },
  "language_info": {
   "codemirror_mode": {
    "name": "ipython",
    "version": 3
   },
   "file_extension": ".py",
   "mimetype": "text/x-python",
   "name": "python",
   "nbconvert_exporter": "python",
   "pygments_lexer": "ipython3",
   "version": "3.12.6"
  }
 },
 "nbformat": 4,
 "nbformat_minor": 5
}
