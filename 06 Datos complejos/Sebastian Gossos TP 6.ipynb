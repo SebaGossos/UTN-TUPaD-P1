{
 "cells": [
  {
   "cell_type": "code",
   "execution_count": null,
   "id": "41a6ed29",
   "metadata": {},
   "outputs": [],
   "source": [
    "# 1) Crea una función recursiva que calcule el factorial de un número. Luego, utiliza esa\n",
    "# función para calcular y mostrar en pantalla el factorial de todos los números enteros\n",
    "# entre 1 y el número que indique el usuario\n",
    "\n"
   ]
  },
  {
   "cell_type": "code",
   "execution_count": null,
   "id": "005c41fe",
   "metadata": {},
   "outputs": [],
   "source": [
    "# 2) Crea una función recursiva que calcule el valor de la serie de Fibonacci en la posición\n",
    "# indicada. Posteriormente, muestra la serie completa hasta la posición que el usuario\n",
    "# especifique.\n"
   ]
  },
  {
   "cell_type": "code",
   "execution_count": null,
   "id": "7093e2dd",
   "metadata": {},
   "outputs": [],
   "source": [
    "# 3) Crea una función recursiva que calcule la potencia de un número base elevado a un\n",
    "# exponente, utilizando la fórmula 𝑛\n",
    "# 𝑚 = 𝑛 ∗ 𝑛\n",
    "# (𝑚−1)\n",
    "# . Prueba esta función en un\n",
    "# algoritmo general.\n"
   ]
  },
  {
   "cell_type": "code",
   "execution_count": null,
   "id": "5f92490e",
   "metadata": {},
   "outputs": [],
   "source": [
    "# 4) Crear una función recursiva en Python que reciba un número entero positivo en base\n",
    "# decimal y devuelva su representación en binario como una cadena de texto.\n",
    "# Cuando representamos un número en binario, lo expresamos usando solamente ceros (0) y\n",
    "# unos (1), en base 2. Para convertir un número decimal a binario, se puede seguir este\n",
    "# procedimiento:\n",
    "# 1. Dividir el número por 2.\n",
    "# 2. Guardar el resto (0 o 1).\n",
    "# 3. Repetir el proceso con el cociente hasta que llegue a 0.\n",
    "# 4. Los restos obtenidos, leídos de abajo hacia arriba, forman el número binario.\n",
    "# 🧠Ejemplo:\n",
    "# Convertir el número 10 a binario:\n",
    "# 10 ÷ 2 = 5 resto: 0\n",
    "# 5 ÷ 2 = 2 resto: 1\n",
    "# 2 ÷ 2 = 1 resto: 0\n",
    "# 1 ÷ 2 = 0 resto: 1\n",
    "# Leyendo los restos de abajo hacia arriba: 1 0 1 0 → El resultado binario es \"1010\"."
   ]
  },
  {
   "cell_type": "code",
   "execution_count": null,
   "id": "b981ae26",
   "metadata": {},
   "outputs": [],
   "source": [
    "# 5) Implementá una función recursiva llamada es_palindromo(palabra) que reciba una\n",
    "# cadena de texto sin espacios ni tildes, y devuelva True si es un palíndromo o False si no\n",
    "# lo es.\n",
    "#  Requisitos:\n",
    "# La solución debe ser recursiva.\n",
    "# No se debe usar [::-1] ni la función reversed().\n"
   ]
  },
  {
   "cell_type": "code",
   "execution_count": null,
   "id": "93711745",
   "metadata": {},
   "outputs": [],
   "source": [
    "# 6) Escribí una función recursiva en Python llamada suma_digitos(n) que reciba un\n",
    "# número entero positivo y devuelva la suma de todos sus dígitos.\n",
    "#  Restricciones:\n",
    "# No se puede convertir el número a string.\n",
    "# Usá operaciones matemáticas (%, //) y recursión.\n",
    "# Ejemplos:\n",
    "# suma_digitos(1234) → 10 (1 + 2 + 3 + 4)\n",
    "# suma_digitos(9) → 9\n",
    "# suma_digitos(305) → 8 (3 + 0 + 5)"
   ]
  },
  {
   "cell_type": "code",
   "execution_count": null,
   "id": "281eb22a",
   "metadata": {},
   "outputs": [],
   "source": [
    "# 7) Un niño está construyendo una pirámide con bloques. En el nivel más bajo coloca n\n",
    "# bloques, en el siguiente nivel uno menos (n - 1), y así sucesivamente hasta llegar al\n",
    "# último nivel con un solo bloque.\n",
    "# Escribí una función recursiva contar_bloques(n) que reciba el número de bloques en el\n",
    "# nivel más bajo y devuelva el total de bloques que necesita para construir toda la\n",
    "# pirámide.\n",
    "#  Ejemplos:\n",
    "# contar_bloques(1) → 1 (1)\n",
    "# contar_bloques(2) → 3 (2 + 1)\n",
    "# contar_bloques(4) → 10 (4 + 3 + 2 + 1)"
   ]
  },
  {
   "cell_type": "code",
   "execution_count": null,
   "id": "ea5fdc84",
   "metadata": {},
   "outputs": [],
   "source": [
    "# 8) Escribí una función recursiva llamada contar_digito(numero, digito) que reciba un\n",
    "# número entero positivo (numero) y un dígito (entre 0 y 9), y devuelva cuántas veces\n",
    "# aparece ese dígito dentro del número.\n",
    "#  Ejemplos:\n",
    "# contar_digito(12233421, 2) → 3\n",
    "# contar_digito(5555, 5) → 4 \n",
    "# contar_digito(123456, 7) → 0"
   ]
  }
 ],
 "metadata": {
  "kernelspec": {
   "display_name": "Python 3",
   "language": "python",
   "name": "python3"
  },
  "language_info": {
   "codemirror_mode": {
    "name": "ipython",
    "version": 3
   },
   "file_extension": ".py",
   "mimetype": "text/x-python",
   "name": "python",
   "nbconvert_exporter": "python",
   "pygments_lexer": "ipython3",
   "version": "3.12.6"
  }
 },
 "nbformat": 4,
 "nbformat_minor": 5
}
