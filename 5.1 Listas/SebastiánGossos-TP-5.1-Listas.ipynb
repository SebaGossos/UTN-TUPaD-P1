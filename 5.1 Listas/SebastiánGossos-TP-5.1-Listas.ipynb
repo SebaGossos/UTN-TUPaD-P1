{
 "cells": [
  {
   "cell_type": "code",
   "execution_count": null,
   "id": "3778d809",
   "metadata": {},
   "outputs": [
    {
     "name": "stdout",
     "output_type": "stream",
     "text": [
      "[<generator object multiples_de_cuatro.<locals>.<genexpr> at 0x0000015164522260>]\n"
     ]
    }
   ],
   "source": [
    "# 1) Crear una lista con los números del 1 al 100 que sean múltiplos de 4. Utilizar la función\n",
    "# range.\n",
    "def multiples_de_cuatro():\n",
    "    # return [i for i in range(1, 101) if i % 4 == 0]\n",
    "    return [ i for i in range(1, 101) if i % 4 == 0 ]\n",
    "  \n",
    "print( multiples_de_cuatro() )"
   ]
  },
  {
   "cell_type": "code",
   "execution_count": 4,
   "id": "e6cd30f8",
   "metadata": {},
   "outputs": [
    {
     "name": "stdout",
     "output_type": "stream",
     "text": [
      "4\n"
     ]
    }
   ],
   "source": [
    "# 2) Crear una lista con cinco elementos (colocar los elementos que más te gusten) y mostrar el\n",
    "# penúltimo. ¡Puedes hacerlo como se muestra en los videos o bien investigar cómo funciona el\n",
    "# indexing con números negativos!\n",
    "\n",
    "lista = [1, 2, 3, 4, 5]\n",
    "penultimo_elemento = lambda lista: lista[-2]\n",
    "  \n",
    "print( penultimo_elemento(lista) )"
   ]
  },
  {
   "cell_type": "code",
   "execution_count": 6,
   "id": "e4be516c",
   "metadata": {},
   "outputs": [
    {
     "name": "stdout",
     "output_type": "stream",
     "text": [
      "['Hola', 'Mundo', 'Python']\n"
     ]
    }
   ],
   "source": [
    "# 3) Crear una lista vacía, agregar tres palabras con append e imprimir la lista resultante por\n",
    "# pantalla. Pista: para crear una lista vacía debes colocar los corchetes sin nada en su interior. Por\n",
    "# ejemplo:\n",
    "\n",
    "lista_vacia = []\n",
    "\n",
    "lista_vacia.append(\"Hola\")\n",
    "lista_vacia.append(\"Mundo\")\n",
    "lista_vacia.append(\"Python\")\n",
    "\n",
    "print( lista_vacia )\n"
   ]
  },
  {
   "cell_type": "code",
   "execution_count": 8,
   "id": "b1155676",
   "metadata": {},
   "outputs": [
    {
     "name": "stdout",
     "output_type": "stream",
     "text": [
      "['perro', 'gato', 'conejo', 'pez']\n",
      "['perro', 'loro', 'conejo', 'oso']\n"
     ]
    }
   ],
   "source": [
    "# 4) Reemplazar el segundo y último valor de la lista “animales” con las palabras “loro” y “oso”,\n",
    "# respectivamente. Imprimir la lista resultante por pantalla. ¡Puedes hacerlo como se muestra\n",
    "# en los videos o bien investigar cómo funciona el indexing con números negativos!\n",
    "\n",
    "animales = [\"perro\", \"gato\", \"conejo\", \"pez\"]\n",
    "print( animales )\n",
    "\n",
    "animales[1] = \"loro\"\n",
    "animales[-1] = \"oso\"\n",
    "\n",
    "print( animales )\n"
   ]
  },
  {
   "cell_type": "code",
   "execution_count": 10,
   "id": "81ff76d5",
   "metadata": {},
   "outputs": [
    {
     "name": "stdout",
     "output_type": "stream",
     "text": [
      "Explicación: Elimina el numero más grande de la lista y lo imprime.\n"
     ]
    }
   ],
   "source": [
    "# 5) Analizar el siguiente programa y explicar con tus palabras qué es lo que realiza.\n",
    "\n",
    "explicacion = \"Explicación: Elimina el numero más grande de la lista y lo imprime.\"\n",
    "print( explicacion )\n"
   ]
  },
  {
   "cell_type": "code",
   "execution_count": null,
   "id": "af31304d",
   "metadata": {},
   "outputs": [
    {
     "name": "stdout",
     "output_type": "stream",
     "text": [
      "[10, 15, 20, 25, 30]\n"
     ]
    }
   ],
   "source": [
    "# 6) Crear una lista con números del 10 al 30 (incluído), haciendo saltos de 5 en 5 y mostrar por\n",
    "# pantalla los dos primeros.\n",
    "\n",
    "lista = [ i for i in range(10, 31) if i % 5 == 0 ]\n",
    "print( lista )"
   ]
  },
  {
   "cell_type": "code",
   "execution_count": 14,
   "id": "d665c67b",
   "metadata": {},
   "outputs": [
    {
     "name": "stdout",
     "output_type": "stream",
     "text": [
      "['sedan', 'polo', 'suran', 'gol']\n",
      "['sedan', 'camioneta', 'furgoneta', 'gol']\n"
     ]
    }
   ],
   "source": [
    "# 7) Reemplazar los dos valores centrales (índices 1 y 2) de la lista “autos” por dos nuevos valores\n",
    "# cualesquiera.\n",
    "\n",
    "autos = [\"sedan\", \"polo\", \"suran\", \"gol\"]\n",
    "\n",
    "print( autos )\n",
    "autos[1] = \"camioneta\"\n",
    "autos[2] = \"furgoneta\"\n",
    "print( autos )"
   ]
  },
  {
   "cell_type": "code",
   "execution_count": 16,
   "id": "779f7f2e",
   "metadata": {},
   "outputs": [
    {
     "name": "stdout",
     "output_type": "stream",
     "text": [
      "[10, 20, 30]\n"
     ]
    }
   ],
   "source": [
    "# 8) Crear una lista vacía llamada \"dobles\" y agregar el doble de 5, 10 y 15 usando append\n",
    "# directamente. Imprimir la lista resultante por pantalla.\n",
    "dobles = []\n",
    "dobles.append( 5 * 2 )\n",
    "dobles.append( 10 * 2 )\n",
    "dobles.append( 15 * 2 )\n",
    "print( dobles )"
   ]
  },
  {
   "cell_type": "code",
   "execution_count": 19,
   "id": "c404b3f1",
   "metadata": {},
   "outputs": [
    {
     "name": "stdout",
     "output_type": "stream",
     "text": [
      "[['leche'], ['arroz', 'tallarines', 'salsa'], ['agua', 'jugo']]\n"
     ]
    }
   ],
   "source": [
    "# 9) Dada la lista “compras”, cuyos elementos representan los productos comprados por\n",
    "# diferentes clientes:\n",
    "# compras = [[\"pan\", \"leche\"], [\"arroz\", \"fideos\", \"salsa\"],\n",
    "# [\"agua\"]]\n",
    "# a) Agregar \"jugo\" a la lista del tercer cliente usando append.\n",
    "# b) Reemplazar \"fideos\" por \"tallarines\" en la lista del segundo cliente.\n",
    "# c) Eliminar \"pan\" de la lista del primer cliente.\n",
    "# d) Imprimir la lista resultante por pantalla\n",
    "\n",
    "compras = [[\"pan\", \"leche\"], [\"arroz\", \"fideos\", \"salsa\"], [\"agua\"]]\n",
    "\n",
    "compras[2].append(\"jugo\")\n",
    "compras[1][1] = \"tallarines\"\n",
    "compras[0].remove(\"pan\")\n",
    "print( compras )\n"
   ]
  },
  {
   "cell_type": "code",
   "execution_count": 20,
   "id": "de61e75b",
   "metadata": {},
   "outputs": [
    {
     "name": "stdout",
     "output_type": "stream",
     "text": [
      "[15, True, [25.5, 57.9, 30.6], False]\n"
     ]
    }
   ],
   "source": [
    "# 10) Elaborar una lista anidada llamada “lista_anidada” que contenga los siguientes elementos:\n",
    "# ● Posición lista_anidada[0]: 15\n",
    "# ● Posición lista_anidada[1]: True\n",
    "# ● Posición lista_anidada[2][0]: 25.5\n",
    "# ● Posición lista_anidada[2][1]: 57.9\n",
    "# ● Posición lista_anidada[2][2]: 30.6\n",
    "# ● Posición lista_anidada[3]: False\n",
    "# Imprimir la lista resultante por pantalla.\n",
    "lista_anidada = [15, True, [25.5, 57.9, 30.6], False]\n",
    "print( lista_anidada )"
   ]
  }
 ],
 "metadata": {
  "kernelspec": {
   "display_name": "Python 3",
   "language": "python",
   "name": "python3"
  },
  "language_info": {
   "codemirror_mode": {
    "name": "ipython",
    "version": 3
   },
   "file_extension": ".py",
   "mimetype": "text/x-python",
   "name": "python",
   "nbconvert_exporter": "python",
   "pygments_lexer": "ipython3",
   "version": "3.12.6"
  }
 },
 "nbformat": 4,
 "nbformat_minor": 5
}
