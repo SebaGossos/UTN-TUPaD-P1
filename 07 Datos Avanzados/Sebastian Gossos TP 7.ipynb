{
 "cells": [
  {
   "cell_type": "code",
   "execution_count": 11,
   "id": "41a6ed29",
   "metadata": {},
   "outputs": [
    {
     "name": "stdout",
     "output_type": "stream",
     "text": [
      "{'Banana': 1200, 'Ananá': 2500, 'Melón': 3000, 'Uva': 1450, 'Naranja': 1200, 'Manzana': 1500, 'Pera': 2300}\n"
     ]
    }
   ],
   "source": [
    "# 1) Dado el diccionario precios_frutas\n",
    "# precios_frutas = {'Banana': 1200, 'Ananá': 2500, 'Melón': 3000, 'Uva':\n",
    "# 1450}\n",
    "# Añadir las siguientes frutas con sus respectivos precios:\n",
    "# ● Naranja = 1200\n",
    "# ● Manzana = 1500\n",
    "# ● Pera = 2300\n",
    "\n",
    "precios_frutas = {'Banana': 1200, 'Ananá': 2500, 'Melón': 3000, 'Uva': 1450}\n",
    "precios_frutas['Naranja'] = 1200\n",
    "precios_frutas['Manzana'] = 1500\n",
    "precios_frutas['Pera'] = 2300\n",
    "\n",
    "print(precios_frutas)"
   ]
  },
  {
   "cell_type": "code",
   "execution_count": 14,
   "id": "005c41fe",
   "metadata": {},
   "outputs": [
    {
     "name": "stdout",
     "output_type": "stream",
     "text": [
      "{'Banana': 1330, 'Ananá': 2500, 'Melón': 2800, 'Uva': 1450, 'Naranja': 1200, 'Manzana': 1700, 'Pera': 2300}\n"
     ]
    }
   ],
   "source": [
    "# 2) Siguiendo con el diccionario precios_frutas que resulta luego de ejecutar el código\n",
    "# desarrollado en el punto anterior, actualizar los precios de las siguientes frutas:\n",
    "# ● Banana = 1330\n",
    "# ● Manzana = 1700\n",
    "# ● Melón = 2800\n",
    "precios_frutas = {'Banana': 1200, 'Ananá': 2500, 'Melón': 3000, 'Uva': 1450, 'Naranja': 1200, 'Manzana': 1500, 'Pera': 2300}\n",
    "precios_frutas['Banana'] = 1330\n",
    "precios_frutas['Manzana'] = 1700\n",
    "precios_frutas['Melón'] = 2800\n",
    "\n",
    "print(precios_frutas)"
   ]
  },
  {
   "cell_type": "code",
   "execution_count": 16,
   "id": "7093e2dd",
   "metadata": {},
   "outputs": [
    {
     "name": "stdout",
     "output_type": "stream",
     "text": [
      "['Banana', 'Ananá', 'Melón', 'Uva', 'Naranja', 'Manzana', 'Pera']\n"
     ]
    }
   ],
   "source": [
    "# 3) Siguiendo con el diccionario precios_frutas que resulta luego de ejecutar el código\n",
    "# desarrollado en el punto anterior, crear una lista que contenga únicamente las frutas sin los\n",
    "# precios.\n",
    "precios_frutas = {'Banana': 1330, 'Ananá': 2500, 'Melón': 2800, 'Uva': 1450, 'Naranja': 1200, 'Manzana': 1700, 'Pera': 2300}\n",
    "lista_frutas = list(precios_frutas.keys())\n",
    "print(lista_frutas)"
   ]
  },
  {
   "cell_type": "code",
   "execution_count": null,
   "id": "5f92490e",
   "metadata": {},
   "outputs": [
    {
     "name": "stdout",
     "output_type": "stream",
     "text": [
      "No existe\n"
     ]
    }
   ],
   "source": [
    "# 4) Escribí un programa que permita almacenar y consultar números telefónicos.\n",
    "# • Permití al usuario cargar 5 contactos con su nombre como clave y número como valor.\n",
    "\n",
    "# • Luego, pedí un nombre y mostrale el número asociado, si existe.\n",
    "\n",
    "def checkNumbers(contacts = {}):\n",
    "  name = input('Coloque el nombre de contacto para devolverle el numero asociado del mismo.')\n",
    "\n",
    "  if( name in contacts ):\n",
    "    return contacts[name]\n",
    "  \n",
    "  return 'No existe'\n",
    "\n",
    "def createUsers(): \n",
    "  dic_contacts = {}\n",
    "\n",
    "  for i in range(2):\n",
    "    name = input('Agrega un usuario con su nombre')\n",
    "    number = input('Guarda su numero')\n",
    "    dic_contacts[name] = int(number)\n",
    "\n",
    "  return checkNumbers( dic_contacts )\n",
    "\n",
    "print(createUsers())\n"
   ]
  },
  {
   "cell_type": "code",
   "execution_count": 35,
   "id": "b981ae26",
   "metadata": {},
   "outputs": [
    {
     "name": "stdout",
     "output_type": "stream",
     "text": [
      "Palabras únicas: {'no', 'hola', 'si'}\n",
      "Cantidad de veces que aparece cada palabra: {'no': 2, 'hola': 2, 'si': 3}\n"
     ]
    }
   ],
   "source": [
    "# 5) Solicita al usuario una frase e imprime:\n",
    "# • Las palabras únicas (usando un set).\n",
    "# • Un diccionario con la cantidad de veces que aparece cada palabra.\n",
    "\n",
    "def countWords(phrase):\n",
    "    words = phrase.split()\n",
    "    unique_words = set(words)\n",
    "    word_count = {}\n",
    "\n",
    "    for word in unique_words:\n",
    "        word_count[word] = words.count(word)\n",
    "\n",
    "    return unique_words, word_count\n",
    "phrase = input(\"Ingrese una frase: \")\n",
    "unique_words, word_count = countWords(phrase)\n",
    "print(\"Palabras únicas:\", unique_words)\n",
    "print(\"Cantidad de veces que aparece cada palabra:\", word_count)"
   ]
  },
  {
   "cell_type": "code",
   "execution_count": null,
   "id": "93711745",
   "metadata": {},
   "outputs": [
    {
     "name": "stdout",
     "output_type": "stream",
     "text": [
      "El promedio de seba es: 4.0\n",
      "El promedio de facu es: 5.666666666666667\n",
      "El promedio de pedro es: 4.333333333333333\n"
     ]
    }
   ],
   "source": [
    "# 6) Permití ingresar los nombres de 3 alumnos, y para cada uno una tupla de 3 notas.\n",
    "# Luego, mostrá el promedio de cada alumno.\n",
    "def calculate_average(grades):\n",
    "    return sum(grades) / len(grades)\n",
    "def input_students():\n",
    "    students = {}\n",
    "    for _ in range(3):\n",
    "        name = input(\"Ingrese el nombre del alumno: \")\n",
    "        grades = tuple(float(input(f\"Ingrese la nota {i+1} de {name}: \")) for i in range(3))\n",
    "        students[name] = grades\n",
    "    return students\n",
    "def display_averages(students):\n",
    "    for name, grades in students.items():\n",
    "        average = calculate_average(grades)\n",
    "        print(f\"El promedio de {name} es: {average:2f}\")\n",
    "students = input_students()\n",
    "display_averages(students)\n",
    "\n",
    "    "
   ]
  },
  {
   "cell_type": "code",
   "execution_count": 46,
   "id": "281eb22a",
   "metadata": {},
   "outputs": [
    {
     "name": "stdout",
     "output_type": "stream",
     "text": [
      "Aprobados en ambos parciales: {4, 5}\n",
      "Aprobados solo en uno de los dos parciales: {1, 2, 3, 6, 7, 8}\n",
      "Total de estudiantes que aprobaron al menos un parcial: {1, 2, 3, 4, 5, 6, 7, 8}\n"
     ]
    }
   ],
   "source": [
    "# 7) Dado dos sets de números, representando dos listas de estudiantes que aprobaron Parcial 1\n",
    "# y Parcial 2:\n",
    "# • Mostrá los que aprobaron ambos parciales.\n",
    "# • Mostrá los que aprobaron solo uno de los dos.\n",
    "# • Mostrá la lista total de estudiantes que aprobaron al menos un parcial (sin repetir).\n",
    "def student_results():\n",
    "    parcial1 = {1, 2, 3, 4, 5}\n",
    "    parcial2 = {4, 5, 6, 7, 8}\n",
    "\n",
    "    aprobados_ambos = parcial1.intersection(parcial2)\n",
    "    aprobados_solo_uno = parcial1.symmetric_difference(parcial2)\n",
    "    total_aprobados = parcial1.union(parcial2)\n",
    "\n",
    "    print(\"Aprobados en ambos parciales:\", aprobados_ambos)\n",
    "    print(\"Aprobados solo en uno de los dos parciales:\", aprobados_solo_uno)\n",
    "    print(\"Total de estudiantes que aprobaron al menos un parcial:\", total_aprobados)\n",
    "student_results()\n"
   ]
  },
  {
   "cell_type": "code",
   "execution_count": 48,
   "id": "ea5fdc84",
   "metadata": {},
   "outputs": [
    {
     "name": "stdout",
     "output_type": "stream",
     "text": [
      "manzana no existe en el stock.\n",
      "seba agregado con un stock de 3.\n",
      "Stock de seba: 3\n",
      "Acción no válida. Intente nuevamente.\n",
      "Saliendo del programa.\n"
     ]
    }
   ],
   "source": [
    "# 8) Armá un diccionario donde las claves sean nombres de productos y los valores su stock.\n",
    "# Permití al usuario:\n",
    "# • Consultar el stock de un producto ingresado.\n",
    "# • Agregar unidades al stock si el producto ya existe.\n",
    "# • Agregar un nuevo producto si no existe.\n",
    "def manage_stock():\n",
    "    stock = {\n",
    "        'Manzana': 50,\n",
    "        'Banana': 30,\n",
    "        'Naranja': 20\n",
    "    }\n",
    "\n",
    "    while True:\n",
    "        action = input(\"¿Desea consultar, agregar o salir? (c/a/s): \").lower()\n",
    "        \n",
    "        if action == 'c':\n",
    "            product = input(\"Ingrese el nombre del producto: \")\n",
    "            if product in stock:\n",
    "                print(f\"Stock de {product}: {stock[product]}\")\n",
    "            else:\n",
    "                print(f\"{product} no existe en el stock.\")\n",
    "        \n",
    "        elif action == 'a':\n",
    "            product = input(\"Ingrese el nombre del producto: \")\n",
    "            if product in stock:\n",
    "                units = int(input(f\"Ingrese la cantidad de unidades a agregar a {product}: \"))\n",
    "                stock[product] += units\n",
    "                print(f\"Nuevo stock de {product}: {stock[product]}\")\n",
    "            else:\n",
    "                units = int(input(f\"{product} no existe. Ingrese la cantidad de unidades para agregarlo: \"))\n",
    "                stock[product] = units\n",
    "                print(f\"{product} agregado con un stock de {units}.\")\n",
    "        \n",
    "        elif action == 's':\n",
    "            print(\"Saliendo del programa.\")\n",
    "            break\n",
    "        \n",
    "        else:\n",
    "            print(\"Acción no válida. Intente nuevamente.\")\n",
    "manage_stock()\n"
   ]
  },
  {
   "cell_type": "code",
   "execution_count": 49,
   "id": "37bc561d",
   "metadata": {},
   "outputs": [
    {
     "name": "stdout",
     "output_type": "stream",
     "text": [
      "No hay actividades programadas para 1999-03-22 a las 12.\n"
     ]
    }
   ],
   "source": [
    "# 9) Creá una agenda donde las claves sean tuplas de (día, hora) y los valores sean eventos.\n",
    "# Permití consultar qué actividad hay en cierto día y hora.\n",
    "def agenda():\n",
    "    agenda = {\n",
    "        ('2023-10-01', '10:00'): 'Reunión con el equipo',\n",
    "        ('2023-10-01', '14:00'): 'Cita médica',\n",
    "        ('2023-10-02', '09:00'): 'Clase de yoga'\n",
    "    }\n",
    "\n",
    "    date = input(\"Ingrese la fecha (YYYY-MM-DD): \")\n",
    "    time = input(\"Ingrese la hora (HH:MM): \")\n",
    "    key = (date, time)\n",
    "\n",
    "    if key in agenda:\n",
    "        print(f\"Actividad programada para {key[0]} a las {key[1]}: {agenda[key]}\")\n",
    "    else:\n",
    "        print(f\"No hay actividades programadas para {key[0]} a las {key[1]}.\")\n",
    "agenda()\n"
   ]
  },
  {
   "cell_type": "code",
   "execution_count": 50,
   "id": "0f19cfeb",
   "metadata": {},
   "outputs": [
    {
     "name": "stdout",
     "output_type": "stream",
     "text": [
      "Diccionario invertido (Capitales como claves):\n",
      "{'Buenos Aires': 'Argentina', 'Brasilia': 'Brasil', 'Santiago': 'Chile', 'Bogotá': 'Colombia'}\n"
     ]
    }
   ],
   "source": [
    "# 10) Dado un diccionario que mapea nombres de países con sus capitales, construí un nuevo\n",
    "# diccionario donde:\n",
    "# • Las capitales sean las claves.\n",
    "# • Los países sean los valores.\n",
    "def invert_country_capital():\n",
    "    country_capital = {\n",
    "        'Argentina': 'Buenos Aires',\n",
    "        'Brasil': 'Brasilia',\n",
    "        'Chile': 'Santiago',\n",
    "        'Colombia': 'Bogotá'\n",
    "    }\n",
    "\n",
    "    capital_country = {v: k for k, v in country_capital.items()}\n",
    "\n",
    "    print(\"Diccionario invertido (Capitales como claves):\")\n",
    "    print(capital_country)\n",
    "invert_country_capital()\n"
   ]
  }
 ],
 "metadata": {
  "kernelspec": {
   "display_name": "Python 3",
   "language": "python",
   "name": "python3"
  },
  "language_info": {
   "codemirror_mode": {
    "name": "ipython",
    "version": 3
   },
   "file_extension": ".py",
   "mimetype": "text/x-python",
   "name": "python",
   "nbconvert_exporter": "python",
   "pygments_lexer": "ipython3",
   "version": "3.12.6"
  }
 },
 "nbformat": 4,
 "nbformat_minor": 5
}
