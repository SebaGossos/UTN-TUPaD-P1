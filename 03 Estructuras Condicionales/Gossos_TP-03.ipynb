{
 "cells": [
  {
   "cell_type": "code",
   "execution_count": 9,
   "id": "4f85aef1",
   "metadata": {},
   "outputs": [
    {
     "name": "stdout",
     "output_type": "stream",
     "text": [
      "Es mayor de edad\n"
     ]
    }
   ],
   "source": [
    "# 1) Escribir un programa que solicite la edad del usuario. Si el usuario es mayor de 18 años,\n",
    "# deberá mostrar un mensaje en pantalla que diga “Es mayor de edad”.\n",
    "print('Es mayor de edad') if int(input('Ingrese su edad')) > 18 else None;"
   ]
  },
  {
   "cell_type": "code",
   "execution_count": 16,
   "id": "c0d4f245",
   "metadata": {},
   "outputs": [
    {
     "name": "stdout",
     "output_type": "stream",
     "text": [
      "Aprobado\n"
     ]
    }
   ],
   "source": [
    "# 2) Escribir un programa que solicite su nota al usuario. Si la nota es mayor o igual a 6, deberá\n",
    "# mostrar por pantalla un mensaje que diga “Aprobado”; en caso contrario deberá mostrar el\n",
    "# mensaje “Desaprobado”\n",
    "nota = int(input(\"ingrese su nota\"))\n",
    "print(\"Aprobado\") if nota >= 6 else print(\"Desaprobado\")"
   ]
  },
  {
   "cell_type": "code",
   "execution_count": 7,
   "id": "45ab01c5",
   "metadata": {},
   "outputs": [
    {
     "name": "stdout",
     "output_type": "stream",
     "text": [
      "Por favor, ingrese un número par\n"
     ]
    }
   ],
   "source": [
    "# 3) Escribir un programa que permita ingresar solo números pares. Si el usuario ingresa un\n",
    "# número par, imprimir por en pantalla el mensaje \"Ha ingresado un número par\"; en caso\n",
    "# contrario, imprimir por pantalla \"Por favor, ingrese un número par\". Nota: investigar el uso del\n",
    "# operador de módulo (%) en Python para evaluar si un número es par o impar.\n",
    "\n",
    "isNumeroPar = int( input('Ingrese un número par') ) % 2;\n",
    "print('Es par') if isNumeroPar == 0 else print('Por favor, ingrese un número par')"
   ]
  },
  {
   "cell_type": "code",
   "execution_count": null,
   "id": "552e27d5",
   "metadata": {},
   "outputs": [
    {
     "name": "stdout",
     "output_type": "stream",
     "text": [
      "Adulto/a\n"
     ]
    }
   ],
   "source": [
    "# 4) Escribir un programa que solicite al usuario su edad e imprima por pantalla a cuál de las\n",
    "# siguientes categorías pertenece:\n",
    "# ● Niño/a: menor de 12 años.\n",
    "# ● Adolescente: mayor o igual que 12 años y menor que 18 años.\n",
    "# ● Adulto/a joven: mayor o igual que 18 años y menor que 30 años.\n",
    "# ● Adulto/a: mayor o igual que 30 años.\n",
    "edad = int(input('Ingrese su edad'))\n",
    "\n",
    "if edad < 12:\n",
    "  print('Niño')\n",
    "elif edad >= 12 and edad < 18:\n",
    "  print('Adolescente')\n",
    "elif edad >=18 and edad < 30:\n",
    "  print('Adulto/a joven')\n",
    "else:\n",
    "  print('Adulto/a')"
   ]
  },
  {
   "cell_type": "code",
   "execution_count": 48,
   "id": "a854eb42",
   "metadata": {},
   "outputs": [
    {
     "name": "stdout",
     "output_type": "stream",
     "text": [
      "Ha ingresado una contraseña correcta\n"
     ]
    }
   ],
   "source": [
    "# 5) Escribir un programa que permita introducir contraseñas de entre 8 y 14 caracteres\n",
    "# (incluyendo 8 y 14). Si el usuario ingresa una contraseña de longitud adecuada, imprimir por en\n",
    "# pantalla el mensaje \"Ha ingresado una contraseña correcta\"; en caso contrario, imprimir por\n",
    "# pantalla \"Por favor, ingrese una contraseña de entre 8 y 14 caracteres\". Nota: investigue el uso\n",
    "# de la función len() en Python para evaluar la cantidad de elementos que tiene un iterable tal\n",
    "# como una lista o un string.\n",
    "contrasena = input('Ingrese una contraseña de entre 8 y 14 caracteres')\n",
    "longitud = len( contrasena )\n",
    "print('Ha ingresado una contraseña correcta')  if (longitud >= 8 and longitud <= 14) else print('Por favor, ingrese una contraseña de entre 8 y 14 caracteres')\n"
   ]
  },
  {
   "cell_type": "code",
   "execution_count": 86,
   "id": "bd6f9c9f",
   "metadata": {},
   "outputs": [
    {
     "name": "stdout",
     "output_type": "stream",
     "text": [
      "[9, 78, 29, 37, 69, 98, 6, 1, 93, 42, 25, 52, 4, 78, 23, 14, 33, 73, 74, 33, 68, 16, 80, 27, 55, 29, 43, 85, 92, 42, 58, 40, 63, 59, 91, 46, 69, 37, 87, 61, 96, 59, 91, 50, 82, 4, 66, 89, 87, 98]\n",
      "media: 54.82, mediana: 58.5, modal: 78\n",
      "hay sesgo negativo\n"
     ]
    }
   ],
   "source": [
    "# 6) El paquete statistics de python contiene funciones que permiten tomar una lista de números\n",
    "# y calcular la moda, la mediana y la media de dichos números. Un ejemplo de su uso es el\n",
    "# siguiente:\n",
    "# from statistics import mode, median, mean\n",
    "# mi_lista = [1,2,5,5,3]\n",
    "# mean(mi_lista)\n",
    "# En la documentación oficial se puede encontrar más información sobre este paquete:\n",
    "# https://docs.python.org/es/3.8/library/statistics.html.\n",
    "# La moda (mode), la mediana (median) y la media (mean) son parámetros estadísticos que se\n",
    "# pueden utilizar para predecir la forma de una distribución normal a partir del siguiente criterio:\n",
    "\n",
    "# ● Sesgo positivo o a la derecha: cuando la media es mayor que la mediana y, a su vez, la\n",
    "# mediana es mayor que la moda.\n",
    "# ● Sesgo negativo o a la izquierda: cuando la media es menor que la mediana y, a su vez,\n",
    "# la mediana es menor que la moda.\n",
    "# ● Sin sesgo: cuando la media, la mediana y la moda son iguales.\n",
    "\n",
    "# Teniendo en cuenta lo antes mencionado, escribir un programa que tome la lista\n",
    "# numeros_aleatorios, calcule su moda, su mediana y su media y las compare para determinar si\n",
    "# hay sesgo positivo, negativo o no hay sesgo. Imprimir el resultado por pantalla.\n",
    "# Definir la lista numeros_aleatorios de la siguiente forma:\n",
    "# import random\n",
    "# numeros_aleatorios = [random.randint(1, 100) for i in range(50)]\n",
    "# Nota: el bloque de código anterior crea una lista con 50 números entre 1 y 100 elegidos de\n",
    "# forma aleatoria.\n",
    "\n",
    "from statistics import mode, median, mean\n",
    "import random\n",
    "numeros_aleatorios = [random.randint(1, 100) for i in range(50)]\n",
    "\n",
    "media = mean(numeros_aleatorios)\n",
    "mediana = median( numeros_aleatorios )\n",
    "moda = mode(numeros_aleatorios)\n",
    "\n",
    "print( numeros_aleatorios )\n",
    "print( f'media: {media}, mediana: {mediana}, modal: {moda}' )\n",
    "\n",
    "if (media > mediana) and (mediana > moda):\n",
    "  print('hay sesgo positivo')\n",
    "elif (media < mediana) and (mediana < moda):\n",
    "  print('hay sesgo negativo')\n",
    "else:\n",
    "  print('sin sesgo')\n",
    "\n",
    "\n"
   ]
  },
  {
   "cell_type": "code",
   "execution_count": null,
   "id": "85256ed3",
   "metadata": {},
   "outputs": [
    {
     "name": "stdout",
     "output_type": "stream",
     "text": [
      "holas\n"
     ]
    }
   ],
   "source": [
    "# 7) Escribir un programa que solicite una frase o palabra al usuario. Si el string ingresado\n",
    "# termina con vocal, añadir un signo de exclamación al final e imprimir el string resultante por\n",
    "# pantalla; en caso contrario, dejar el string tal cual lo ingresó el usuario e imprimirlo por\n",
    "# pantalla.\n",
    "\n",
    "frase = input('Ingrese una frase')\n",
    "\n",
    "print(f'{frase}!') if (frase[-1].lower() in 'aeiou') else print(frase)"
   ]
  },
  {
   "cell_type": "code",
   "execution_count": null,
   "id": "4d0a9134",
   "metadata": {},
   "outputs": [],
   "source": [
    "# 8) Escribir un programa que solicite al usuario que ingrese su nombre y el número 1, 2 o 3\n",
    "# dependiendo de la opción que desee:\n",
    "# 1. Si quiere su nombre en mayúsculas. Por ejemplo: PEDRO.\n",
    "# 2. Si quiere su nombre en minúsculas. Por ejemplo: pedro.\n",
    "# 3. Si quiere su nombre con la primera letra mayúscula. Por ejemplo: Pedro.\n",
    "# El programa debe transformar el nombre ingresado de acuerdo a la opción seleccionada por el\n",
    "# usuario e imprimir el resultado por pantalla. Nota: investigue uso de las funciones upper(),\n",
    "# lower() y title() de Python para convertir entre mayúsculas y minúsculas.\n",
    "nombre = input(\"Ingrese su nombre: \")\n",
    "opcion = input(\"Seleccione una opción (1: Mayúsculas, 2: Minúsculas, 3: Primera letra en mayúscula): \")\n",
    "\n",
    "if opcion == \"1\":\n",
    "    print(nombre.upper())\n",
    "elif opcion == \"2\":\n",
    "    print(nombre.lower())\n",
    "elif opcion == \"3\":\n",
    "    print(nombre.title())\n",
    "else:\n",
    "    print(\"Opción no válida. Debe ingresar 1, 2 o 3.\")\n"
   ]
  },
  {
   "cell_type": "code",
   "execution_count": 95,
   "id": "e4e097e5",
   "metadata": {},
   "outputs": [
    {
     "name": "stdout",
     "output_type": "stream",
     "text": [
      "Extremo (puede causar graves daños a gran escala)\n"
     ]
    }
   ],
   "source": [
    "# 9) Escribir un programa que pida al usuario la magnitud de un terremoto, clasifique la\n",
    "# magnitud en una de las siguientes categorías según la escala de Richter e imprima el resultado\n",
    "# por pantalla:\n",
    "# ● Menor que 3: \"Muy leve\" (imperceptible).\n",
    "# ● Mayor o igual que 3 y menor que 4: \"Leve\" (ligeramente perceptible).\n",
    "# ● Mayor o igual que 4 y menor que 5: \"Moderado\" (sentido por personas, pero\n",
    "# generalmente no causa daños).\n",
    "# ● Mayor o igual que 5 y menor que 6: \"Fuerte\" (puede causar daños en estructuras\n",
    "# débiles).\n",
    "# ● Mayor o igual que 6 y menor que 7: \"Muy Fuerte\" (puede causar daños significativos).\n",
    "# ● Mayor o igual que 7: \"Extremo\" (puede causar graves daños a gran escala).\n",
    "\n",
    "magnitud = float(input(\"Ingrese la magnitud del terremoto: \"))\n",
    "\n",
    "if magnitud < 3:\n",
    "    print(\"Muy leve (imperceptible)\")\n",
    "elif 3 <= magnitud < 4:\n",
    "    print(\"Leve (ligeramente perceptible)\")\n",
    "elif 4 <= magnitud < 5:\n",
    "    print(\"Moderado (sentido por personas, pero generalmente no causa daños)\")\n",
    "elif 5 <= magnitud < 6:\n",
    "    print(\"Fuerte (puede causar daños en estructuras débiles)\")\n",
    "elif 6 <= magnitud < 7:\n",
    "    print(\"Muy Fuerte (puede causar daños significativos)\")\n",
    "else:\n",
    "    print(\"Extremo (puede causar graves daños a gran escala)\")\n"
   ]
  },
  {
   "cell_type": "code",
   "execution_count": 96,
   "id": "3b0b64d0",
   "metadata": {},
   "outputs": [
    {
     "name": "stdout",
     "output_type": "stream",
     "text": [
      "La estación del año es: Otoño\n"
     ]
    }
   ],
   "source": [
    "# 10) Utilizando la información aportada en la siguiente tabla sobre las estaciones del año\n",
    "# # Periodo del año\n",
    "# # Estación en el hemisferio norte\n",
    "# # Estación en el hemisferio sur\n",
    "# Desde el 21 de diciembre hasta el 20 de\n",
    "# marzo (incluidos)\n",
    "# Invierno Verano\n",
    "# Desde el 21 de marzo hasta el 20 de junio\n",
    "# (incluidos)\n",
    "# Primavera Otoño\n",
    "# Desde el 21 de junio hasta el 20 de\n",
    "# septiembre (incluidos)\n",
    "# Verano Invierno\n",
    "# Desde el 21 de septiembre hasta el 20 de\n",
    "# diciembre (incluidos)\n",
    "# Otoño Primavera\n",
    "# Escribir un programa que pregunte al usuario en cuál hemisferio se encuentra (N/S), qué mes\n",
    "# del año es y qué día es. El programa deberá utilizar esa información para imprimir por pantalla\n",
    "# si el usuario se encuentra en otoño, invierno, primavera o verano.\n",
    "\n",
    "hemisferio = input(\"Ingrese su hemisferio (N/S): \").strip().upper()\n",
    "mes = int(input(\"Ingrese el número de mes (1-12): \"))\n",
    "dia = int(input(\"Ingrese el día del mes: \"))\n",
    "\n",
    "if hemisferio not in [\"N\", \"S\"] or not (1 <= mes <= 12) or not (1 <= dia <= 31):\n",
    "    print(\"Entrada no válida.\")\n",
    "else:\n",
    "    if (mes == 12 and dia >= 21) or mes in [1, 2] or (mes == 3 and dia <= 20):\n",
    "        if hemisferio == \"N\":\n",
    "            print(\"La estación del año es: Invierno\")\n",
    "        else:\n",
    "            print(\"La estación del año es: Verano\")\n",
    "    elif (mes == 3 and dia >= 21) or mes in [4, 5] or (mes == 6 and dia <= 20):\n",
    "        if hemisferio == \"N\":\n",
    "            print(\"La estación del año es: Primavera\")\n",
    "        else:\n",
    "            print(\"La estación del año es: Otoño\")\n",
    "    elif (mes == 6 and dia >= 21) or mes in [7, 8] or (mes == 9 and dia <= 20):\n",
    "        if hemisferio == \"N\":\n",
    "            print(\"La estación del año es: Verano\")\n",
    "        else:\n",
    "            print(\"La estación del año es: Invierno\")\n",
    "    else:\n",
    "        if hemisferio == \"N\":\n",
    "            print(\"La estación del año es: Otoño\")\n",
    "        else:\n",
    "            print(\"La estación del año es: Primavera\")\n"
   ]
  },
  {
   "cell_type": "markdown",
   "id": "4082fcca",
   "metadata": {},
   "source": []
  }
 ],
 "metadata": {
  "kernelspec": {
   "display_name": "Python 3",
   "language": "python",
   "name": "python3"
  },
  "language_info": {
   "codemirror_mode": {
    "name": "ipython",
    "version": 3
   },
   "file_extension": ".py",
   "mimetype": "text/x-python",
   "name": "python",
   "nbconvert_exporter": "python",
   "pygments_lexer": "ipython3",
   "version": "3.12.6"
  }
 },
 "nbformat": 4,
 "nbformat_minor": 5
}
