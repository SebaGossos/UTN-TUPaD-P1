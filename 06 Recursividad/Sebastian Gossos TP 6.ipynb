{
 "cells": [
  {
   "cell_type": "code",
   "execution_count": 1,
   "id": "41a6ed29",
   "metadata": {},
   "outputs": [
    {
     "name": "stdout",
     "output_type": "stream",
     "text": [
      "El factorial de 1 es 1\n",
      "El factorial de 2 es 2\n",
      "El factorial de 3 es 6\n",
      "El factorial de 4 es 24\n",
      "El factorial de 5 es 120\n"
     ]
    }
   ],
   "source": [
    "# 1) Crea una función recursiva que calcule el factorial de un número. Luego, utiliza esa\n",
    "# función para calcular y mostrar en pantalla el factorial de todos los números enteros\n",
    "# entre 1 y el número que indique el usuario\n",
    "\n",
    "def fact_num(n):\n",
    "    if n == 0 or n == 1:\n",
    "        return 1\n",
    "    else:\n",
    "        return n * fact_num(n - 1)\n",
    "\n",
    "def main():\n",
    "    try:\n",
    "        num = int(input(\"Introduce un número entero positivo: \"))\n",
    "        if num < 1:\n",
    "            print(\"Por favor, introduce un número entero positivo mayor o igual a 1.\")\n",
    "            return\n",
    "        \n",
    "        for i in range(1, num + 1):\n",
    "            print(f\"El factorial de {i} es {fact_num(i)}\")\n",
    "    \n",
    "    except ValueError:\n",
    "        print(\"Entrada no válida. Por favor, introduce un número entero.\")\n",
    "\n",
    "if __name__ == \"__main__\":\n",
    "    main()\n",
    "    \n",
    "\n",
    "\n"
   ]
  },
  {
   "cell_type": "code",
   "execution_count": 2,
   "id": "005c41fe",
   "metadata": {},
   "outputs": [
    {
     "name": "stdout",
     "output_type": "stream",
     "text": [
      "Serie de Fibonacci:\n",
      "Fibonacci(0) = 0\n",
      "Fibonacci(1) = 1\n",
      "Fibonacci(2) = 1\n",
      "Fibonacci(3) = 2\n",
      "Fibonacci(4) = 3\n",
      "Fibonacci(5) = 5\n",
      "Fibonacci(6) = 8\n"
     ]
    }
   ],
   "source": [
    "# 2) Crea una función recursiva que calcule el valor de la serie de Fibonacci en la posición\n",
    "# indicada. Posteriormente, muestra la serie completa hasta la posición que el usuario\n",
    "# especifique.\n",
    "def fibonacci(n):\n",
    "    if n <= 0:\n",
    "        return 0\n",
    "    elif n == 1:\n",
    "        return 1\n",
    "    else:\n",
    "        return fibonacci(n - 1) + fibonacci(n - 2)\n",
    "def main_fibonacci():\n",
    "    try:\n",
    "        num = int(input(\"Introduce un número entero positivo para la serie de Fibonacci: \"))\n",
    "        if num < 0:\n",
    "            print(\"Por favor, introduce un número entero positivo o cero.\")\n",
    "            return\n",
    "        \n",
    "        print(\"Serie de Fibonacci:\")\n",
    "        for i in range(num + 1):\n",
    "            print(f\"Fibonacci({i}) = {fibonacci(i)}\")\n",
    "    \n",
    "    except ValueError:\n",
    "        print(\"Entrada no válida. Por favor, introduce un número entero.\")\n",
    "        \n",
    "if __name__ == \"__main__\":\n",
    "    main_fibonacci()"
   ]
  },
  {
   "cell_type": "code",
   "execution_count": 9,
   "id": "7093e2dd",
   "metadata": {},
   "outputs": [
    {
     "name": "stdout",
     "output_type": "stream",
     "text": [
      "-2.0 elevado a -3 es -0.125\n"
     ]
    }
   ],
   "source": [
    "# 3) Crea una función recursiva que calcule la potencia de un número base elevado a un\n",
    "# exponente, utilizando la fórmula 𝑛\n",
    "# 𝑚 = 𝑛 ∗ 𝑛\n",
    "# (𝑚−1)\n",
    "# . Prueba esta función en un\n",
    "# algoritmo general.\n",
    "def potencia(base, exponente):\n",
    "    if exponente == 0:\n",
    "        return 1\n",
    "    elif exponente < 0:\n",
    "        return 1 / potencia(base, -exponente)\n",
    "    else:\n",
    "        return base * potencia(base, exponente - 1)\n",
    "def main_potencia():\n",
    "    try:\n",
    "        base = float(input(\"Introduce la base: \"))\n",
    "        exponente = int(input(\"Introduce el exponente (entero): \"))\n",
    "        \n",
    "        resultado = potencia(base, exponente)\n",
    "        print(f\"{base} elevado a {exponente} es {resultado}\")\n",
    "    \n",
    "    except ValueError:\n",
    "        print(\"Entrada no válida. Por favor, introduce un número válido para la base y un entero para el exponente.\")\n",
    "if __name__ == \"__main__\":\n",
    "    main_potencia()"
   ]
  },
  {
   "cell_type": "code",
   "execution_count": 13,
   "id": "5f92490e",
   "metadata": {},
   "outputs": [
    {
     "name": "stdout",
     "output_type": "stream",
     "text": [
      "El número 4 en binario es: 100\n"
     ]
    }
   ],
   "source": [
    "# 4) Crear una función recursiva en Python que reciba un número entero positivo en base\n",
    "# decimal y devuelva su representación en binario como una cadena de texto.\n",
    "# Cuando representamos un número en binario, lo expresamos usando solamente ceros (0) y\n",
    "# unos (1), en base 2. Para convertir un número decimal a binario, se puede seguir este\n",
    "# procedimiento:\n",
    "# 1. Dividir el número por 2.\n",
    "# 2. Guardar el resto (0 o 1).\n",
    "# 3. Repetir el proceso con el cociente hasta que llegue a 0.\n",
    "# 4. Los restos obtenidos, leídos de abajo hacia arriba, forman el número binario.\n",
    "# 🧠Ejemplo:\n",
    "# Convertir el número 10 a binario:\n",
    "# 10 ÷ 2 = 5 resto: 0\n",
    "# 5 ÷ 2 = 2 resto: 1\n",
    "# 2 ÷ 2 = 1 resto: 0\n",
    "# 1 ÷ 2 = 0 resto: 1\n",
    "# Leyendo los restos de abajo hacia arriba: 1 0 1 0 → El resultado binario es \"1010\".\n",
    "def decimal_a_binario(n):\n",
    "    if n == 0:\n",
    "        return \"\"\n",
    "    else:\n",
    "        return decimal_a_binario(n // 2) + str(n % 2)\n",
    "def main_binario():\n",
    "    try:\n",
    "        num = int(input(\"Introduce un número entero positivo para convertir a binario: \"))\n",
    "        if num < 0:\n",
    "            print(\"Por favor, introduce un número entero positivo.\")\n",
    "            return\n",
    "        \n",
    "        resultado = decimal_a_binario(num)\n",
    "        if resultado == \"\":\n",
    "            resultado = \"0\" \n",
    "        print(f\"El número {num} en binario es: {resultado}\")\n",
    "    \n",
    "    except ValueError:\n",
    "        print(\"Entrada no válida. Por favor, introduce un número entero positivo.\")\n",
    "if __name__ == \"__main__\":\n",
    "    main_binario()"
   ]
  },
  {
   "cell_type": "code",
   "execution_count": 16,
   "id": "b981ae26",
   "metadata": {},
   "outputs": [
    {
     "name": "stdout",
     "output_type": "stream",
     "text": [
      "La palabra 'oso' es un palíndromo.\n"
     ]
    }
   ],
   "source": [
    "# 5) Implementá una función recursiva llamada es_palindromo(palabra) que reciba una\n",
    "# cadena de texto sin espacios ni tildes, y devuelva True si es un palíndromo o False si no\n",
    "# lo es.\n",
    "#  Requisitos:\n",
    "# La solución debe ser recursiva.\n",
    "# No se debe usar [::-1] ni la función reversed().\n",
    "def es_palindromo(palabra):\n",
    "    # Caso base: si la palabra tiene 0 o 1 caracteres, es un palíndromo\n",
    "    if len(palabra) <= 1:\n",
    "        return True\n",
    "    # Compara el primer y último carácter\n",
    "    if palabra[0] != palabra[-1]:\n",
    "        return False\n",
    "    # Llama recursivamente a la subcadena sin los extremos\n",
    "    return es_palindromo(palabra[1:-1])\n",
    "def main_palindromo():\n",
    "    palabra = input(\"Introduce una palabra sin espacios ni tildes: \").lower()\n",
    "    if es_palindromo(palabra):\n",
    "        print(f\"La palabra '{palabra}' es un palíndromo.\")\n",
    "    else:\n",
    "        print(f\"La palabra '{palabra}' no es un palíndromo.\")\n",
    "if __name__ == \"__main__\":\n",
    "    main_palindromo()"
   ]
  },
  {
   "cell_type": "code",
   "execution_count": 19,
   "id": "93711745",
   "metadata": {},
   "outputs": [
    {
     "name": "stdout",
     "output_type": "stream",
     "text": [
      "La suma de los dígitos de 4 es: 4\n"
     ]
    }
   ],
   "source": [
    "# 6) Escribí una función recursiva en Python llamada suma_digitos(n) que reciba un\n",
    "# número entero positivo y devuelva la suma de todos sus dígitos.\n",
    "#  Restricciones:\n",
    "# No se puede convertir el número a string.\n",
    "# Usá operaciones matemáticas (%, //) y recursión.\n",
    "# Ejemplos:\n",
    "# suma_digitos(1234) → 10 (1 + 2 + 3 + 4)\n",
    "# suma_digitos(9) → 9\n",
    "# suma_digitos(305) → 8 (3 + 0 + 5)\n",
    "def suma_digisto(n):\n",
    "    if n == 0:\n",
    "        return 0\n",
    "    else:\n",
    "        return n % 10 + suma_digisto(n // 10)\n",
    "def main_suma_digitos():\n",
    "    try:\n",
    "        num = int(input(\"Introduce un número entero positivo: \"))\n",
    "        if num < 0:\n",
    "            print(\"Por favor, introduce un número entero positivo.\")\n",
    "            return\n",
    "        \n",
    "        resultado = suma_digisto(num)\n",
    "        print(f\"La suma de los dígitos de {num} es: {resultado}\")\n",
    "    \n",
    "    except ValueError:\n",
    "        print(\"Entrada no válida. Por favor, introduce un número entero positivo.\")\n",
    "if __name__ == \"__main__\":\n",
    "    main_suma_digitos()\n",
    "    "
   ]
  },
  {
   "cell_type": "code",
   "execution_count": 20,
   "id": "281eb22a",
   "metadata": {},
   "outputs": [
    {
     "name": "stdout",
     "output_type": "stream",
     "text": [
      "El total de bloques necesarios para construir la pirámide es: 595\n"
     ]
    }
   ],
   "source": [
    "# 7) Un niño está construyendo una pirámide con bloques. En el nivel más bajo coloca n\n",
    "# bloques, en el siguiente nivel uno menos (n - 1), y así sucesivamente hasta llegar al\n",
    "# último nivel con un solo bloque.\n",
    "# Escribí una función recursiva contar_bloques(n) que reciba el número de bloques en el\n",
    "# nivel más bajo y devuelva el total de bloques que necesita para construir toda la\n",
    "# pirámide.\n",
    "#  Ejemplos:\n",
    "# contar_bloques(1) → 1 (1)\n",
    "# contar_bloques(2) → 3 (2 + 1)\n",
    "# contar_bloques(4) → 10 (4 + 3 + 2 + 1)\n",
    "def contar_bloques(n):\n",
    "    if n <= 0:\n",
    "        return 0\n",
    "    else:\n",
    "        return n + contar_bloques(n - 1)\n",
    "def main_contar_bloques():\n",
    "    try:\n",
    "        num = int(input(\"Introduce el número de bloques en el nivel más bajo: \"))\n",
    "        if num < 1:\n",
    "            print(\"Por favor, introduce un número entero positivo mayor o igual a 1.\")\n",
    "            return\n",
    "        \n",
    "        total_bloques = contar_bloques(num)\n",
    "        print(f\"El total de bloques necesarios para construir la pirámide es: {total_bloques}\")\n",
    "    \n",
    "    except ValueError:\n",
    "        print(\"Entrada no válida. Por favor, introduce un número entero positivo.\")\n",
    "if __name__ == \"__main__\":\n",
    "    main_contar_bloques()"
   ]
  },
  {
   "cell_type": "code",
   "execution_count": 21,
   "id": "ea5fdc84",
   "metadata": {},
   "outputs": [
    {
     "name": "stdout",
     "output_type": "stream",
     "text": [
      "El dígito 2 aparece 5 veces en el número 234232234542.\n"
     ]
    }
   ],
   "source": [
    "# 8) Escribí una función recursiva llamada contar_digito(numero, digito) que reciba un\n",
    "# número entero positivo (numero) y un dígito (entre 0 y 9), y devuelva cuántas veces\n",
    "# aparece ese dígito dentro del número.\n",
    "#  Ejemplos:\n",
    "# contar_digito(12233421, 2) → 3\n",
    "# contar_digito(5555, 5) → 4 \n",
    "# contar_digito(123456, 7) → 0\n",
    "def contar_digito(numero, digito):\n",
    "    if numero == 0:\n",
    "        return 0\n",
    "    else:\n",
    "        return (1 if numero % 10 == digito else 0) + contar_digito(numero // 10, digito)\n",
    "def main_contar_digito():\n",
    "    try:\n",
    "        numero = int(input(\"Introduce un número entero positivo: \"))\n",
    "        if numero < 0:\n",
    "            print(\"Por favor, introduce un número entero positivo.\")\n",
    "            return\n",
    "        \n",
    "        digito = int(input(\"Introduce un dígito (0-9): \"))\n",
    "        if digito < 0 or digito > 9:\n",
    "            print(\"Por favor, introduce un dígito válido entre 0 y 9.\")\n",
    "            return\n",
    "        \n",
    "        resultado = contar_digito(numero, digito)\n",
    "        print(f\"El dígito {digito} aparece {resultado} veces en el número {numero}.\")\n",
    "    \n",
    "    except ValueError:\n",
    "        print(\"Entrada no válida. Por favor, introduce un número entero positivo y un dígito válido.\")\n",
    "if __name__ == \"__main__\":\n",
    "    main_contar_digito()"
   ]
  }
 ],
 "metadata": {
  "kernelspec": {
   "display_name": "Python 3",
   "language": "python",
   "name": "python3"
  },
  "language_info": {
   "codemirror_mode": {
    "name": "ipython",
    "version": 3
   },
   "file_extension": ".py",
   "mimetype": "text/x-python",
   "name": "python",
   "nbconvert_exporter": "python",
   "pygments_lexer": "ipython3",
   "version": "3.12.6"
  }
 },
 "nbformat": 4,
 "nbformat_minor": 5
}
