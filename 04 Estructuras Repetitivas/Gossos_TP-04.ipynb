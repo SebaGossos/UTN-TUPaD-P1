{
 "cells": [
  {
   "cell_type": "code",
   "execution_count": 9,
   "id": "85d3e99c",
   "metadata": {},
   "outputs": [
    {
     "name": "stdout",
     "output_type": "stream",
     "text": [
      "0\n",
      "1\n",
      "2\n",
      "3\n",
      "4\n",
      "5\n",
      "6\n",
      "7\n",
      "8\n",
      "9\n",
      "10\n",
      "11\n",
      "12\n",
      "13\n",
      "14\n",
      "15\n",
      "16\n",
      "17\n",
      "18\n",
      "19\n",
      "20\n",
      "21\n",
      "22\n",
      "23\n",
      "24\n",
      "25\n",
      "26\n",
      "27\n",
      "28\n",
      "29\n",
      "30\n",
      "31\n",
      "32\n",
      "33\n",
      "34\n",
      "35\n",
      "36\n",
      "37\n",
      "38\n",
      "39\n",
      "40\n",
      "41\n",
      "42\n",
      "43\n",
      "44\n",
      "45\n",
      "46\n",
      "47\n",
      "48\n",
      "49\n",
      "50\n",
      "51\n",
      "52\n",
      "53\n",
      "54\n",
      "55\n",
      "56\n",
      "57\n",
      "58\n",
      "59\n",
      "60\n",
      "61\n",
      "62\n",
      "63\n",
      "64\n",
      "65\n",
      "66\n",
      "67\n",
      "68\n",
      "69\n",
      "70\n",
      "71\n",
      "72\n",
      "73\n",
      "74\n",
      "75\n",
      "76\n",
      "77\n",
      "78\n",
      "79\n",
      "80\n",
      "81\n",
      "82\n",
      "83\n",
      "84\n",
      "85\n",
      "86\n",
      "87\n",
      "88\n",
      "89\n",
      "90\n",
      "91\n",
      "92\n",
      "93\n",
      "94\n",
      "95\n",
      "96\n",
      "97\n",
      "98\n",
      "99\n",
      "100\n"
     ]
    }
   ],
   "source": [
    "# 1) Crea un programa que imprima en pantalla todos los números enteros desde 0 hasta 100\n",
    "# (incluyendo ambos extremos), en orden creciente, mostrando un número por línea.\n",
    "for x in range(0, 101):\n",
    "  print(x)"
   ]
  },
  {
   "cell_type": "code",
   "execution_count": 12,
   "id": "ed2575f7",
   "metadata": {},
   "outputs": [
    {
     "name": "stdout",
     "output_type": "stream",
     "text": [
      "3\n"
     ]
    }
   ],
   "source": [
    "# 2) Desarrolla un programa que solicite al usuario un número entero y determine la cantidad de\n",
    "# dígitos que contiene.\n",
    "\n",
    "numero = str( abs(int(input('Escriba un numero entero'))) ) \n",
    "print(len(numero)) "
   ]
  },
  {
   "cell_type": "code",
   "execution_count": null,
   "id": "5cfc4a1b",
   "metadata": {},
   "outputs": [
    {
     "name": "stdout",
     "output_type": "stream",
     "text": [
      "Ingresá dos números enteros (en cualquier orden):\n",
      "-5\n"
     ]
    }
   ],
   "source": [
    "# 3) Escribe un programa que sume todos los números enteros comprendidos entre dos valores\n",
    "# dados por el usuario, excluyendo esos dos valores.\n",
    "# Solicitamos dos números al usuario\n",
    "print(\"Ingresá dos números enteros (en cualquier orden):\")\n",
    "a = 0\n",
    "b = 0\n",
    "\n",
    "while a == b:\n",
    "  a = int(input(\"Primer número: \"))\n",
    "  b = int(input(\"Segundo número: \"))\n",
    "\n",
    "suma = 0\n",
    "\n",
    "if a < b:\n",
    "  for x in range(a+1, b):\n",
    "    suma += x\n",
    "else:\n",
    "  for x in range(b+1, a):\n",
    "    suma += x\n",
    "\n",
    "print(suma)"
   ]
  },
  {
   "cell_type": "code",
   "execution_count": null,
   "id": "6f8add47",
   "metadata": {},
   "outputs": [
    {
     "name": "stdout",
     "output_type": "stream",
     "text": [
      "Ingrese el numero que desea sumar. Cuando desee obtener el resultado de la suma total, envie el 0:\n",
      "78\n"
     ]
    }
   ],
   "source": [
    "# 4) Elabora un programa que permita al usuario ingresar números enteros y los sume en\n",
    "# secuencia. El programa debe detenerse y mostrar el total acumulado cuando el usuario ingrese\n",
    "# un 0.\n",
    "print('Ingrese los números que desea sumar uno por uno.')\n",
    "print('Cuando quiera terminar y ver el total, ingrese 0.')\n",
    "\n",
    "suma = 0\n",
    "entero = None\n",
    "\n",
    "while entero != 0:\n",
    "  entero = int(input('Ingrese un numero'))\n",
    "  suma+= entero\n",
    "  \n",
    "print(suma)"
   ]
  },
  {
   "cell_type": "code",
   "execution_count": 28,
   "id": "2ab2762b",
   "metadata": {},
   "outputs": [
    {
     "name": "stdout",
     "output_type": "stream",
     "text": [
      "Adiviná el número secreto (entre 0 y 9)\n",
      "¡Correcto! Adivinaste el número 8\n",
      "Número de intentos: 25\n"
     ]
    }
   ],
   "source": [
    "# 5) Crea un juego en el que el usuario deba adivinar un número aleatorio entre 0 y 9. Al final, el\n",
    "# programa debe mostrar cuántos intentos fueron necesarios para acertar el número.\n",
    "import random\n",
    "\n",
    "secreto = random.randint(0,9)\n",
    "\n",
    "print(\"Adiviná el número secreto (entre 0 y 9)\")\n",
    "\n",
    "intento = -1\n",
    "intentos = 0\n",
    "\n",
    "while intento != secreto:\n",
    "  intento = int(input('Tu intento: '))\n",
    "  intentos += 1\n",
    "  \n",
    "print(\"¡Correcto! Adivinaste el número\", secreto)\n",
    "print(\"Número de intentos:\", intentos)"
   ]
  },
  {
   "cell_type": "code",
   "execution_count": null,
   "id": "3703224e",
   "metadata": {},
   "outputs": [
    {
     "name": "stdout",
     "output_type": "stream",
     "text": [
      "100\n",
      "98\n",
      "96\n",
      "94\n",
      "92\n",
      "90\n",
      "88\n",
      "86\n",
      "84\n",
      "82\n",
      "80\n",
      "78\n",
      "76\n",
      "74\n",
      "72\n",
      "70\n",
      "68\n",
      "66\n",
      "64\n",
      "62\n",
      "60\n",
      "58\n",
      "56\n",
      "54\n",
      "52\n",
      "50\n",
      "48\n",
      "46\n",
      "44\n",
      "42\n",
      "40\n",
      "38\n",
      "36\n",
      "34\n",
      "32\n",
      "30\n",
      "28\n",
      "26\n",
      "24\n",
      "22\n",
      "20\n",
      "18\n",
      "16\n",
      "14\n",
      "12\n",
      "10\n",
      "8\n",
      "6\n",
      "4\n",
      "2\n",
      "0\n"
     ]
    }
   ],
   "source": [
    "# 6) Desarrolla un programa que imprima en pantalla todos los números pares comprendidos\n",
    "# entre 0 y 100, en orden decreciente.\n",
    "\n",
    "for x in range(100, -1, -2):\n",
    "  print(x)"
   ]
  },
  {
   "cell_type": "code",
   "execution_count": null,
   "id": "f5ecaacc",
   "metadata": {},
   "outputs": [
    {
     "name": "stdout",
     "output_type": "stream",
     "text": [
      "6\n"
     ]
    }
   ],
   "source": [
    "# 7) Crea un programa que calcule la suma de todos los números comprendidos entre 0 y un\n",
    "# número entero positivo indicado por el usuario.\n",
    "numero = -1\n",
    "\n",
    "while numero < 0:\n",
    "  numero = int(input('Ingrese un numero entero positivo:'))\n",
    "\n",
    "suma=0\n",
    "for x in range( 0, numero+1 ):\n",
    "  suma+=x\n",
    "  \n",
    "print(suma)"
   ]
  },
  {
   "cell_type": "code",
   "execution_count": null,
   "id": "028a0c97",
   "metadata": {},
   "outputs": [
    {
     "name": "stdout",
     "output_type": "stream",
     "text": [
      "\n",
      "Resultados:\n",
      "Cantidad de números pares: 9\n",
      "Cantidad de números impares: 0\n",
      "Cantidad de números negativos: 0\n",
      "Cantidad de números positivos: 0\n"
     ]
    }
   ],
   "source": [
    "# 8) Escribe un programa que permita al usuario ingresar 100 números enteros. Luego, el\n",
    "# programa debe indicar cuántos de estos números son pares, cuántos son impares, cuántos son\n",
    "# negativos y cuántos son positivos. (Nota: para probar el programa puedes usar una cantidad\n",
    "# menor, pero debe estar preparado para procesar 100 números con un solo cambio).\n",
    "\n",
    "pares = 0\n",
    "impares = 0\n",
    "negativos = 0\n",
    "positivos = 0\n",
    "\n",
    "\n",
    "for i in range(1, 101):\n",
    "    numero = int(input(f\"Ingrese el número {i}: \"))\n",
    "    \n",
    "    if numero % 2 == 0:\n",
    "        pares += 1\n",
    "    else:\n",
    "        impares += 1\n",
    "    \n",
    "    if numero < 0:\n",
    "        negativos += 1\n",
    "    elif numero > 0:\n",
    "        positivos += 1\n",
    "\n",
    "print(f\"\\nResultados:\")\n",
    "print(f\"Cantidad de números pares: {pares}\")\n",
    "print(f\"Cantidad de números impares: {impares}\")\n",
    "print(f\"Cantidad de números negativos: {negativos}\")\n",
    "print(f\"Cantidad de números positivos: {positivos}\")"
   ]
  },
  {
   "cell_type": "code",
   "execution_count": 45,
   "id": "7cd9d6da",
   "metadata": {},
   "outputs": [
    {
     "name": "stdout",
     "output_type": "stream",
     "text": [
      "La media de los 100 números ingresados es: 1.41\n"
     ]
    }
   ],
   "source": [
    "# 9) Elabora un programa que permita al usuario ingresar 100 números enteros y luego calcule la\n",
    "# media de esos valores. (Nota: puedes probar el programa con una cantidad menor, pero debe\n",
    "# poder procesar 100 números cambiando solo un valor).\n",
    "\n",
    "suma_total = 0\n",
    "\n",
    "for i in range(1, 10):\n",
    "    numero = int(input(f\"Ingrese el número {i}: \"))\n",
    "    suma_total += numero\n",
    "\n",
    "media = suma_total / 100\n",
    "\n",
    "print(f\"La media de los 100 números ingresados es: {media}\")"
   ]
  },
  {
   "cell_type": "code",
   "execution_count": 63,
   "id": "07f5338f",
   "metadata": {},
   "outputs": [
    {
     "name": "stdout",
     "output_type": "stream",
     "text": [
      "321\n"
     ]
    }
   ],
   "source": [
    "# 10) Escribe un programa que invierta el orden de los dígitos de un número ingresado por el\n",
    "# usuario. Ejemplo: si el usuario ingresa 547, el programa debe mostrar 745.\n",
    "\n",
    "numero = input(\"Ingrese un número: \")\n",
    "\n",
    "numero_invertido = []\n",
    "for x in numero:\n",
    "  numero_invertido.insert(0, x)\n",
    "print( ''.join(numero_invertido) )"
   ]
  }
 ],
 "metadata": {
  "kernelspec": {
   "display_name": "Python 3",
   "language": "python",
   "name": "python3"
  },
  "language_info": {
   "codemirror_mode": {
    "name": "ipython",
    "version": 3
   },
   "file_extension": ".py",
   "mimetype": "text/x-python",
   "name": "python",
   "nbconvert_exporter": "python",
   "pygments_lexer": "ipython3",
   "version": "3.12.6"
  }
 },
 "nbformat": 4,
 "nbformat_minor": 5
}
